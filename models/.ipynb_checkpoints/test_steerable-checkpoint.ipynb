{
 "cells": [
  {
   "cell_type": "code",
   "execution_count": 1,
   "metadata": {},
   "outputs": [],
   "source": [
    "import torch\n",
    "import numpy as np\n",
    "from v2pca import *\n",
    "from scipy.io import loadmat\n",
    "import matplotlib.pyplot as plt\n",
    "from config import *\n",
    "from genutils import *\n",
    "from sklearn.feature_extraction.image import extract_patches_2d"
   ]
  },
  {
   "cell_type": "code",
   "execution_count": 2,
   "metadata": {},
   "outputs": [
    {
     "name": "stdout",
     "output_type": "stream",
     "text": [
      "(12, 2, 256, 256)\n",
      "(8928, 4096)\n",
      "[ 5.55111512e-17  1.38777878e-17  1.11022302e-16 -3.33066907e-16\n",
      " -6.93889390e-17 -5.82867088e-16 -1.52655666e-16 -2.63677968e-16\n",
      "  4.99600361e-16  1.35308431e-16]\n",
      "[1. 1. 1. 1. 1. 1. 1. 1. 1. 1.]\n",
      "(8928, 64, 64)\n"
     ]
    }
   ],
   "source": [
    "#data loading from matfile\n",
    "data_path = '../data/bundleClassify_64_12_1.mat'\n",
    "matdata = loadmat(data_path)\n",
    "#pcadata = loadmat('./data.mat')\n",
    "'''\n",
    "mat file contains nested structs of following structure\n",
    "data\n",
    "    input (input data images and coefficients from steerably pyramid output)\n",
    "        imgSample (sample large images that patches are taken from)\n",
    "        imgSampleSmall (resized version of imgSample to 64x64)\n",
    "        dataMatrix (classification data matrix)\n",
    "        dataClassificationGroup\n",
    "        dataTextureStatistics\n",
    "        dataImg (sampled image patches from original imgSample images)\n",
    "        dataScrambledImg (sampled image patches but phase scrambled)\n",
    "        \n",
    "    f (component filter data)\n",
    "        filter\n",
    "            coeff\n",
    "            coeffPermutation\n",
    "            coeffRecon\n",
    "        coeffWeights\n",
    "        coeffIndex\n",
    "        coeffTransferSet\n",
    "        componentResponseMatrix\n",
    "        componentError_l\n",
    "        componentError_q\n",
    "    spyr (name of steerable pyramid filters used from simoncelli code)\n",
    "        'sp3Filters'\n",
    "'''\n",
    "large_ims = np.array(matdata['data'][0][0]['input'][0][0]['imgSample'])\n",
    "print(large_ims.shape)\n",
    "num_ims = 12\n",
    "imsize=64\n",
    "impatches = np.empty((0,imsize*imsize),float)\n",
    "for i in range(num_ims):\n",
    "    ims = extract_patches_2d(large_ims[i,0,:,:].reshape([256,256]),(64,64), max_patches = 0.02)\n",
    "    ims = np.reshape(ims, [ims.shape[0], ims.shape[1]*ims.shape[1]])\n",
    "    normed_ims = (ims-ims.mean(axis=1, keepdims=1))/ims.std(axis=1, keepdims=1)\n",
    "    impatches = np.vstack((impatches, normed_ims))\n",
    "\n",
    "print(impatches.shape)\n",
    "print(impatches.mean(axis=1)[2000:2010])\n",
    "print(impatches.std(axis=1)[2000:2010])\n",
    "impatches = impatches.reshape(-1,imsize,imsize)\n",
    "print(impatches.shape)"
   ]
  },
  {
   "cell_type": "code",
   "execution_count": null,
   "metadata": {},
   "outputs": [],
   "source": [
    "indices = np.random.randint(20000,size=5)\n",
    "print(indices)\n",
    "for ind in indices:\n",
    "    plt.figure()\n",
    "    plt.imshow(impatches[ind,:,:], cmap='gray')\n",
    "\n",
    "#plt.figure()\n",
    "#plt.imshow(large_ims[3,0,:,:].reshape([256,256]), cmap='gray')"
   ]
  },
  {
   "cell_type": "code",
   "execution_count": null,
   "metadata": {},
   "outputs": [],
   "source": [
    "impatch = np.array(matdata['data'][0][0]['input'][0][0]['dataImg'])\n",
    "window = torch.tensor(np.array(matdata['data'][0][0]['f'][0][0]['coeffWeights']), device=device, dtype=dtype).to(device)\n",
    "#pcaMat = torch.tensor(np.array(pcadata['pcadata'])).to(device)\n",
    "im = impatch[:,:,:]\n",
    "print(im.shape)\n",
    "print(im.min(), im.max())\n"
   ]
  },
  {
   "cell_type": "code",
   "execution_count": 3,
   "metadata": {},
   "outputs": [],
   "source": [
    "network1 = V2PCA(imgSize=impatches.shape[1], K=4, N=2, nonlin='quadratic', window = None, pcaMat = None, ret_pyr = False, ncomp=32)"
   ]
  },
  {
   "cell_type": "code",
   "execution_count": 4,
   "metadata": {},
   "outputs": [],
   "source": [
    "x = impatches.reshape([impatches.shape[0],1,impatches.shape[1],impatches.shape[2]])\n",
    "x = torch.tensor(x, requires_grad=True, dtype=dtype).to(device)\n",
    "coeff = network1(x)\n",
    "#from scipy.io import savemat\n",
    "#a = {}\n",
    "#a['pyrdata'] = pyr.data.cpu().numpy()\n",
    "#savemat('pyrdata', a)"
   ]
  },
  {
   "cell_type": "code",
   "execution_count": 5,
   "metadata": {},
   "outputs": [],
   "source": [
    "torch.cuda.empty_cache()"
   ]
  },
  {
   "cell_type": "code",
   "execution_count": null,
   "metadata": {},
   "outputs": [
    {
     "name": "stdout",
     "output_type": "stream",
     "text": [
      "torch.Size([8928, 24832])\n",
      "Computing svd...\n"
     ]
    }
   ],
   "source": [
    "\n",
    "coeffnump = coeff.data.cpu().numpy()\n",
    "'''\n",
    "coeffsmall = np.zeros((504,3944))\n",
    "for i in range(coeffsmall.shape[0]):\n",
    "    row = coeffnump[i,:]\n",
    "    coeffsmall[i,:] = row[np.nonzero(row)]\n",
    "'''\n",
    "print(coeff.size())\n",
    "def ZCAnump(X):\n",
    "    X_mean = X.mean(axis=1, keepdims=True)\n",
    "    X = X - X_mean\n",
    "    cov = np.dot(X.T, X)/(X.shape[0]-1)\n",
    "    print(\"Computing svd...\")\n",
    "    U,S,V = np.linalg.svd(cov)\n",
    "    print(\"Computing zcamat...\")\n",
    "    temp = np.diag(1./np.sqrt(S+epsilon))\n",
    "    gemm = linalg.get_blas_funcs(\"gemm\",[temp,U.T])\n",
    "    temp2 = gemm(alpha=1.0,a=temp,b=U.T,trans_a=False,trans_b=False)\n",
    "    gemm2 = linalg.get_blas_funcs(\"gemm\",[U,temp2])\n",
    "    ZCAMatrix = gemm2(alpha=1.0,a=U,b=temp2,trans_a=False,trans_b=False)\n",
    "    del cov,U,s,V, temp,temp2\n",
    "    return ZCAMatrix\n",
    "\n",
    "def ZCA(X):\n",
    "    X_mean = torch.mean(X,1, True)\n",
    "    X = X - X_mean.expand_as(X)\n",
    "    cov = torch.mm(torch.t(X),X)/(X.shape[0]-1)\n",
    "    print(\"Computing svd...\")\n",
    "    U,S,V = torch.svd(cov)\n",
    "    print(\"Computing zcamat...\")\n",
    "    zcamat = torch.mm(U, torch.mm(torch.diag(1/torch.sqrt(S+1e-5)), torch.t(U)))\n",
    "    return zcamat\n",
    "\n",
    "def PCA(X):\n",
    "    X_mean = torch.mean(X,1,True)\n",
    "    X = X - X_mean.expand_as(X)\n",
    "    \n",
    "V = ZCAnump(coeffnump)\n",
    "#print(U.shape, V.shape)\n",
    "pcamat = V.data.cpu().numpy()\n",
    "print(pcamat.shape)\n",
    "from scipy.io import savemat\n",
    "a = {}\n",
    "#a['pcadata'] = A_\n",
    "a['pcadata'] = pcamat[:,0:32]\n",
    "savemat('data', a)"
   ]
  },
  {
   "cell_type": "code",
   "execution_count": null,
   "metadata": {},
   "outputs": [],
   "source": [
    "res = torch.mm(coeff, V)\n",
    "np.argmax(res[:,2].data.cpu().numpy())\n"
   ]
  },
  {
   "cell_type": "code",
   "execution_count": null,
   "metadata": {},
   "outputs": [],
   "source": [
    "network2 = V2PCA(imgSize=im.shape[1], K=4, N=2, nonlin='quadratic', window=window, pcaMat = pcaMat, ncomp=32)"
   ]
  },
  {
   "cell_type": "code",
   "execution_count": null,
   "metadata": {},
   "outputs": [],
   "source": [
    "from torch.optim import SGD\n",
    "x = im[16,:,:].reshape([1,1,im.shape[1],im.shape[2]])\n",
    "x = torch.Tensor(x)\n",
    "x = x.cuda()\n",
    "x = Variable( x, requires_grad=True ) \n",
    "\n",
    "def run_grad_op(model, image):\n",
    "    imagelist = []\n",
    "    optimizer = SGD([image],lr=6)\n",
    "    for i in range(5):\n",
    "        def closure():\n",
    "            #optimizer.zero_grad()\n",
    "            output = network2(image)\n",
    "            loss = output[0,2]\n",
    "            loss.backward()\n",
    "            return loss\n",
    "        loss=optimizer.step(closure)\n",
    "        imagelist.append(x.clone())\n",
    "    return imagelist\n",
    "\n",
    "outputim = run_grad_op(network2, x)"
   ]
  },
  {
   "cell_type": "code",
   "execution_count": null,
   "metadata": {},
   "outputs": [],
   "source": [
    "\n"
   ]
  },
  {
   "cell_type": "code",
   "execution_count": null,
   "metadata": {},
   "outputs": [],
   "source": [
    "def window_im(xorig, win):\n",
    "    new_im = np.multiply(xorig.reshape([4096,1]), win[4096:8192].data.cpu().numpy())\n",
    "    return new_im.reshape([64,64])\n",
    "\n",
    "xwin = window_im(im[16,:,:], window)\n",
    "plt.figure()\n",
    "plt.imshow(xwin.reshape([64,64]), cmap='gray')\n",
    "plt.axis('off')"
   ]
  },
  {
   "cell_type": "code",
   "execution_count": null,
   "metadata": {},
   "outputs": [],
   "source": [
    "for i in range(len(outputim)):\n",
    "    plt.figure()\n",
    "    outputim2 = outputim[i].data.cpu().numpy().reshape([64,64])\n",
    "    outputwin = window_im(outputim2, window)\n",
    "    plt.imshow(outputwin, cmap='gray')\n",
    "    plt.axis('off')"
   ]
  },
  {
   "cell_type": "code",
   "execution_count": null,
   "metadata": {},
   "outputs": [],
   "source": [
    "import matplotlib.pyplot as plt\n",
    "import matplotlib.gridspec as gridspec\n",
    "def make_ticklabels_invisible(fig):\n",
    "    for i, ax in enumerate(fig.axes):\n",
    "        ax.tick_params(labelbottom=False, labelleft=False)\n",
    "f = plt.figure(figsize=(10,8))\n",
    "K = 4\n",
    "nR = int(np.ceil(K/2))\n",
    "nC = K+1-H\n",
    "print(W,H)\n",
    "gs0 = gridspec.GridSpec(nR, nC)\n",
    "gs0.update(wspace=0.025, hspace=0.025) # set the spacing between axes. \n",
    "\n",
    "img = y[1].data.select(0,0).select(0,0)           \n",
    "img = img.view(-1, img.size(-2), img.size(-1) )\n",
    "img2 = y[2].data.select(0,0).select(0,0)\n",
    "img2 = img2.view(-1, img.size(-2), img.size(-1))\n",
    "\n",
    "for i in range(img.size(0)):\n",
    "    if i < H:\n",
    "        print(i, W-1)\n",
    "        loc = gs0[i,-1]\n",
    "    else:\n",
    "        print(-1, W-i)\n",
    "        loc = gs0[-1,W-i]\n",
    "    ax1 = plt.Subplot(f, loc)\n",
    "    ax1 = f.add_subplot(ax1)\n",
    "    im = img[i]\n",
    "    scale=127.5/max(im.max(), -im.min())\n",
    "    im =im.mul(scale).add(127.5)\n",
    "    ax1.imshow(im, cmap='gray')\n",
    "\n",
    "N=2\n",
    "for k in range(N):\n",
    "    inner_grid = gridspec.GridSpecFromSubplotSpec(3, 3,\n",
    "            subplot_spec=outer_grid[i], wspace=0.0, hspace=0.0)\n",
    "\n",
    "\n",
    "make_ticklabels_invisible(f)\n",
    "'''\n",
    "for i in range()\n",
    "gs00 = gridspec.GridSpecFromSubplotSpec(2, 2, subplot_spec=gs0[0])\n",
    "\n",
    "ax1 = plt.Subplot(f, gs00[-1, -1])\n",
    "f.add_subplot(ax1)\n",
    "ax2 = plt.Subplot(f, gs00[-1, -2])\n",
    "f.add_subplot(ax2)\n",
    "ax3 = plt.Subplot(f, gs00[-1, 0])\n",
    "f.add_subplot(ax3)\n",
    "make_ticklabels_invisible(f)'''\n"
   ]
  },
  {
   "cell_type": "code",
   "execution_count": null,
   "metadata": {},
   "outputs": [],
   "source": [
    "len(y)-"
   ]
  },
  {
   "cell_type": "code",
   "execution_count": null,
   "metadata": {},
   "outputs": [],
   "source": [
    "\n",
    "\n",
    "fig.show()\n",
    "from PIL import Image\n",
    "img = y[1].data.select(0,0).select(0,0)           \n",
    "img = img.view(-1, img.size(-2), img.size(-1) )\n",
    "print( i, img.size() )\n",
    "for j in range(img.size(0)):\n",
    "    plt.figure()\n",
    "    plt.imshow(img[j], cmap='gray')"
   ]
  },
  {
   "cell_type": "code",
   "execution_count": null,
   "metadata": {},
   "outputs": [],
   "source": []
  },
  {
   "cell_type": "code",
   "execution_count": null,
   "metadata": {},
   "outputs": [],
   "source": []
  }
 ],
 "metadata": {
  "kernelspec": {
   "display_name": "Python 3",
   "language": "python",
   "name": "python3"
  },
  "language_info": {
   "codemirror_mode": {
    "name": "ipython",
    "version": 3
   },
   "file_extension": ".py",
   "mimetype": "text/x-python",
   "name": "python",
   "nbconvert_exporter": "python",
   "pygments_lexer": "ipython3",
   "version": "3.6.3"
  }
 },
 "nbformat": 4,
 "nbformat_minor": 2
}
